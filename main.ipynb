{
 "cells": [
  {
   "cell_type": "code",
   "execution_count": 92,
   "metadata": {},
   "outputs": [],
   "source": [
    "import os \n",
    "import cv2\n",
    "import numpy as np\n",
    "import tensorflow\n",
    "from imutils import paths\n",
    "from sklearn.preprocessing import LabelBinarizer\n",
    "from sklearn.model_selection import train_test_split"
   ]
  },
  {
   "cell_type": "code",
   "execution_count": 68,
   "metadata": {},
   "outputs": [],
   "source": [
    "from keras.preprocessing.image import ImageDataGenerator"
   ]
  },
  {
   "cell_type": "code",
   "execution_count": 69,
   "metadata": {},
   "outputs": [],
   "source": [
    "datapath = \"./data\"\n",
    "outputmodel = \"./videoClassificationModel\"\n",
    "outputlabelninarizer = \"./videoClassificationAndBinarizer\"\n",
    "epoch=25"
   ]
  },
  {
   "cell_type": "code",
   "execution_count": 70,
   "metadata": {},
   "outputs": [
    {
     "name": "stdout",
     "output_type": "stream",
     "text": [
      "Images is being loaded\n"
     ]
    }
   ],
   "source": [
    "Sports_Labels = set(['boxing','swimming','table_tennis']) \n",
    "print(\"Images is being loaded\")\n",
    "pathToImages = list(paths.list_images(datapath))\n",
    "data = []\n",
    "labels = []"
   ]
  },
  {
   "cell_type": "code",
   "execution_count": 71,
   "metadata": {},
   "outputs": [
    {
     "name": "stderr",
     "output_type": "stream",
     "text": [
      "libpng warning: iCCP: known incorrect sRGB profile\n"
     ]
    }
   ],
   "source": [
    "for images in pathToImages:\n",
    "    label = images.split(os.path.sep)[-2]\n",
    "    if label not in Sports_Labels:\n",
    "        continue\n",
    "    image = cv2.imread(images)\n",
    "    image = cv2.cvtColor(image,cv2.COLOR_BGR2RGB)\n",
    "    image = cv2.resize(image, (244,244))\n",
    "    data.append(image) \n",
    "    labels.append(label)"
   ]
  },
  {
   "cell_type": "code",
   "execution_count": 72,
   "metadata": {},
   "outputs": [],
   "source": [
    "data = np.array(data)\n",
    "labels = np.array(labels)\n",
    "#hot encoded values as 0,1,2\n",
    "lb = LabelBinarizer()\n",
    "labels = lb.fit_transform(labels)"
   ]
  },
  {
   "cell_type": "code",
   "execution_count": 73,
   "metadata": {},
   "outputs": [],
   "source": [
    "(X_train, X_test, Y_train, Y_test) = train_test_split(data, labels, test_size=0.25, stratify=labels, random_state=42)"
   ]
  },
  {
   "cell_type": "code",
   "execution_count": 74,
   "metadata": {},
   "outputs": [],
   "source": [
    "traininAugmentatioin = ImageDataGenerator(\n",
    "    rotation_range=30,\n",
    "    zoom_range=0.15,\n",
    "    width_shift_range=0.2,\n",
    "    height_shift_range=0.2,\n",
    "    shear_range=0.15,\n",
    "    horizontal_flip=True,\n",
    "    fill_mode=\"nearest\"\n",
    ")"
   ]
  },
  {
   "cell_type": "code",
   "execution_count": 75,
   "metadata": {},
   "outputs": [],
   "source": [
    "validationAugmentation = ImageDataGenerator()\n",
    "mean = np.array([123.68, 116.779, 103.939], dtype=\"float32\")\n",
    "traininAugmentatioin.mean = mean\n",
    "validationAugmentation.mean = mean"
   ]
  },
  {
   "cell_type": "code",
   "execution_count": 76,
   "metadata": {},
   "outputs": [],
   "source": [
    "from keras.layers import Input\n",
    "from keras.layers import AveragePooling2D\n",
    "from keras.applications import ResNet50\n",
    "from keras.layers import Flatten\n",
    "from keras.layers import Dense\n",
    "from keras.layers import Dropout\n",
    "from keras.models import Model"
   ]
  },
  {
   "cell_type": "code",
   "execution_count": 96,
   "metadata": {},
   "outputs": [],
   "source": [
    "baseModel = ResNet50(weights=\"imagenet\", include_top= False, input_tensor=Input(shape=(224,244,3)))\n",
    "headModel = baseModel.output\n",
    "headModel = AveragePooling2D(pool_size=(7,7)) (headModel)\n",
    "headModel = Flatten (name=\"flatten\")(headModel)\n",
    "headModel = Dense(512, activation=\"relu\") (headModel)\n",
    "headModel = Dropout (0.5) (headModel)\n",
    "headModel = Dense(len(lb.classes_), activation=\"softmax\")(headModel)\n",
    "model = Model (inputs=baseModel.input , outputs=headModel)\n",
    "\n",
    "for basemodelLayers in baseModel.layers:\n",
    "    basemodelLayers. trainable = False"
   ]
  },
  {
   "cell_type": "code",
   "execution_count": 97,
   "metadata": {},
   "outputs": [],
   "source": [
    "from keras.optimizers.legacy import SGD"
   ]
  },
  {
   "cell_type": "code",
   "execution_count": 98,
   "metadata": {},
   "outputs": [],
   "source": [
    "opt = SGD(learning_rate=0.0001,momentum=0.9, decay = 1e-4/epoch)"
   ]
  },
  {
   "cell_type": "code",
   "execution_count": 99,
   "metadata": {},
   "outputs": [],
   "source": [
    "model. compile(loss=\"categorical_crossentropy\", optimizer=opt, metrics=[\"accuracy\"])"
   ]
  },
  {
   "cell_type": "code",
   "execution_count": 100,
   "metadata": {},
   "outputs": [
    {
     "name": "stdout",
     "output_type": "stream",
     "text": [
      "Epoch 1/25\n",
      "49/49 [==============================] - 84s 2s/step - loss: 1.3285 - accuracy: 0.4541 - val_loss: 0.5700 - val_accuracy: 0.7793\n",
      "Epoch 2/25\n",
      "49/49 [==============================] - 88s 2s/step - loss: 0.6867 - accuracy: 0.7033 - val_loss: 0.3597 - val_accuracy: 0.8828\n",
      "Epoch 3/25\n",
      "49/49 [==============================] - 114s 2s/step - loss: 0.5123 - accuracy: 0.7899 - val_loss: 0.2938 - val_accuracy: 0.8984\n",
      "Epoch 4/25\n",
      "49/49 [==============================] - 90s 2s/step - loss: 0.4724 - accuracy: 0.8107 - val_loss: 0.2422 - val_accuracy: 0.9258\n",
      "Epoch 5/25\n",
      "49/49 [==============================] - 91s 2s/step - loss: 0.3898 - accuracy: 0.8412 - val_loss: 0.2175 - val_accuracy: 0.9258\n",
      "Epoch 6/25\n",
      "49/49 [==============================] - 89s 2s/step - loss: 0.3612 - accuracy: 0.8575 - val_loss: 0.1936 - val_accuracy: 0.9375\n",
      "Epoch 7/25\n",
      "49/49 [==============================] - 91s 2s/step - loss: 0.3462 - accuracy: 0.8712 - val_loss: 0.1847 - val_accuracy: 0.9355\n",
      "Epoch 8/25\n",
      "49/49 [==============================] - 147s 3s/step - loss: 0.3314 - accuracy: 0.8673 - val_loss: 0.1735 - val_accuracy: 0.9395\n",
      "Epoch 9/25\n",
      "49/49 [==============================] - 98s 2s/step - loss: 0.2987 - accuracy: 0.8887 - val_loss: 0.1633 - val_accuracy: 0.9473\n",
      "Epoch 10/25\n",
      "49/49 [==============================] - 111s 2s/step - loss: 0.2809 - accuracy: 0.8907 - val_loss: 0.1560 - val_accuracy: 0.9453\n",
      "Epoch 11/25\n",
      "49/49 [==============================] - 116s 2s/step - loss: 0.2580 - accuracy: 0.9141 - val_loss: 0.1470 - val_accuracy: 0.9531\n",
      "Epoch 12/25\n",
      "49/49 [==============================] - 118s 2s/step - loss: 0.2751 - accuracy: 0.8953 - val_loss: 0.1385 - val_accuracy: 0.9570\n",
      "Epoch 13/25\n",
      "49/49 [==============================] - 108s 2s/step - loss: 0.2219 - accuracy: 0.9167 - val_loss: 0.1363 - val_accuracy: 0.9551\n",
      "Epoch 14/25\n",
      "49/49 [==============================] - 130s 3s/step - loss: 0.2568 - accuracy: 0.8979 - val_loss: 0.1319 - val_accuracy: 0.9570\n",
      "Epoch 15/25\n",
      "49/49 [==============================] - 140s 3s/step - loss: 0.2240 - accuracy: 0.9154 - val_loss: 0.1284 - val_accuracy: 0.9590\n",
      "Epoch 16/25\n",
      "49/49 [==============================] - 126s 3s/step - loss: 0.2186 - accuracy: 0.9180 - val_loss: 0.1178 - val_accuracy: 0.9668\n",
      "Epoch 17/25\n",
      "49/49 [==============================] - 131s 3s/step - loss: 0.2298 - accuracy: 0.9083 - val_loss: 0.1171 - val_accuracy: 0.9648\n",
      "Epoch 18/25\n",
      "49/49 [==============================] - 130s 3s/step - loss: 0.2220 - accuracy: 0.9109 - val_loss: 0.1179 - val_accuracy: 0.9648\n",
      "Epoch 19/25\n",
      "49/49 [==============================] - 130s 3s/step - loss: 0.2081 - accuracy: 0.9200 - val_loss: 0.1178 - val_accuracy: 0.9668\n",
      "Epoch 20/25\n",
      "49/49 [==============================] - 135s 3s/step - loss: 0.2151 - accuracy: 0.9193 - val_loss: 0.1145 - val_accuracy: 0.9648\n",
      "Epoch 21/25\n",
      "49/49 [==============================] - 126s 3s/step - loss: 0.2061 - accuracy: 0.9219 - val_loss: 0.1117 - val_accuracy: 0.9668\n",
      "Epoch 22/25\n",
      "49/49 [==============================] - 130s 3s/step - loss: 0.1996 - accuracy: 0.9317 - val_loss: 0.1098 - val_accuracy: 0.9668\n",
      "Epoch 23/25\n",
      "49/49 [==============================] - 125s 3s/step - loss: 0.1940 - accuracy: 0.9226 - val_loss: 0.1082 - val_accuracy: 0.9668\n",
      "Epoch 24/25\n",
      "49/49 [==============================] - 136s 3s/step - loss: 0.1692 - accuracy: 0.9382 - val_loss: 0.1072 - val_accuracy: 0.9648\n",
      "Epoch 25/25\n",
      "49/49 [==============================] - 133s 3s/step - loss: 0.1913 - accuracy: 0.9265 - val_loss: 0.1039 - val_accuracy: 0.9688\n"
     ]
    }
   ],
   "source": [
    "History = model.fit(\n",
    "traininAugmentatioin.flow(X_train, Y_train, batch_size=32),\n",
    "steps_per_epoch=len(X_train) // 32,\n",
    "validation_data=validationAugmentation.flow(X_test,Y_test),\n",
    "validation_steps=len(X_test) // 32, epochs=epoch\n",
    ")"
   ]
  },
  {
   "cell_type": "code",
   "execution_count": 101,
   "metadata": {},
   "outputs": [
    {
     "name": "stdout",
     "output_type": "stream",
     "text": [
      "INFO:tensorflow:Assets written to: ./videoClassificationModel/assets\n"
     ]
    },
    {
     "name": "stderr",
     "output_type": "stream",
     "text": [
      "INFO:tensorflow:Assets written to: ./videoClassificationModel/assets\n"
     ]
    }
   ],
   "source": [
    "import pickle\n",
    "model.save(outputmodel)\n",
    "lbinarizer = open(\"./videoClassificationAndBinarizer.pickle\",\"wb\")\n",
    "lbinarizer.write(pickle.dumps(lb))\n",
    "lbinarizer.close()"
   ]
  }
 ],
 "metadata": {
  "kernelspec": {
   "display_name": "GestureSense",
   "language": "python",
   "name": "python3"
  },
  "language_info": {
   "codemirror_mode": {
    "name": "ipython",
    "version": 3
   },
   "file_extension": ".py",
   "mimetype": "text/x-python",
   "name": "python",
   "nbconvert_exporter": "python",
   "pygments_lexer": "ipython3",
   "version": "3.11.6"
  }
 },
 "nbformat": 4,
 "nbformat_minor": 2
}
